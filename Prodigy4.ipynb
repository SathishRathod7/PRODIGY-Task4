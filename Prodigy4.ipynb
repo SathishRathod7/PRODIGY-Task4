{
  "nbformat": 4,
  "nbformat_minor": 0,
  "metadata": {
    "colab": {
      "provenance": [],
      "authorship_tag": "ABX9TyNvvP/VWqN6ioEO/aChYZ12",
      "include_colab_link": true
    },
    "kernelspec": {
      "name": "python3",
      "display_name": "Python 3"
    },
    "language_info": {
      "name": "python"
    }
  },
  "cells": [
    {
      "cell_type": "markdown",
      "metadata": {
        "id": "view-in-github",
        "colab_type": "text"
      },
      "source": [
        "<a href=\"https://colab.research.google.com/github/SathishRathod7/PRODIGY-Task4/blob/main/Prodigy4.ipynb\" target=\"_parent\"><img src=\"https://colab.research.google.com/assets/colab-badge.svg\" alt=\"Open In Colab\"/></a>"
      ]
    },
    {
      "cell_type": "code",
      "execution_count": null,
      "metadata": {
        "id": "LylV-gMHoAGP"
      },
      "outputs": [],
      "source": [
        "import pandas as pd\n",
        "from sklearn.model_selection import train_test_split\n",
        "from sklearn.preprocessing import LabelEncoder\n",
        "from sklearn.tree import DecisionTreeClassifier\n",
        "from sklearn.metrics import classification_report, accuracy_score, confusion_matrix"
      ]
    },
    {
      "cell_type": "code",
      "source": [
        "import os\n",
        "for dirname, _, filenames in os.walk('/kaggle/input'):\n",
        "    for filename in filenames:\n",
        "        print(os.path.join(dirname, filename))"
      ],
      "metadata": {
        "id": "QXOMWYoj9lO6"
      },
      "execution_count": null,
      "outputs": []
    },
    {
      "cell_type": "code",
      "source": [
        "df=pd.read_csv('/kaggle/input/us-accidents/US_Accidents_Dec21_updated.csv')"
      ],
      "metadata": {
        "id": "qh41bgNhakiS"
      },
      "execution_count": null,
      "outputs": []
    },
    {
      "cell_type": "code",
      "source": [
        "df.head()"
      ],
      "metadata": {
        "id": "bbeKmgluakql"
      },
      "execution_count": null,
      "outputs": []
    },
    {
      "cell_type": "code",
      "source": [
        "df.columns"
      ],
      "metadata": {
        "id": "47OW07wKakvl"
      },
      "execution_count": null,
      "outputs": []
    },
    {
      "cell_type": "code",
      "source": [
        "df.dtypes.value_counts()"
      ],
      "metadata": {
        "id": "TU6cmJfGakwa"
      },
      "execution_count": null,
      "outputs": []
    },
    {
      "cell_type": "code",
      "source": [
        "df.shape"
      ],
      "metadata": {
        "id": "S1j86WzJak0T"
      },
      "execution_count": null,
      "outputs": []
    },
    {
      "cell_type": "code",
      "source": [
        "df.describe()"
      ],
      "metadata": {
        "id": "FJyULeLgalGf"
      },
      "execution_count": null,
      "outputs": []
    },
    {
      "cell_type": "code",
      "source": [
        "df.State.unique"
      ],
      "metadata": {
        "id": "c94wKHUdbPBw"
      },
      "execution_count": null,
      "outputs": []
    },
    {
      "cell_type": "code",
      "source": [
        "df1=df[df['State']=='CA']"
      ],
      "metadata": {
        "id": "xps_Rm1IbO-Q"
      },
      "execution_count": null,
      "outputs": []
    },
    {
      "cell_type": "code",
      "source": [
        "df1['IDD'] = df1['ID'].astype('str').str.extractall('(\\d+)').unstack().fillna('').sum(axis=1).astype(int)"
      ],
      "metadata": {
        "id": "Oj3bkSlSbO75"
      },
      "execution_count": null,
      "outputs": []
    },
    {
      "cell_type": "code",
      "source": [
        "df1"
      ],
      "metadata": {
        "id": "Lcpt9GPObO48"
      },
      "execution_count": null,
      "outputs": []
    },
    {
      "cell_type": "code",
      "source": [
        "df1.head()"
      ],
      "metadata": {
        "id": "Qqsdr-qkbO18"
      },
      "execution_count": null,
      "outputs": []
    },
    {
      "cell_type": "code",
      "source": [
        "df1.shape"
      ],
      "metadata": {
        "id": "pcm8qiulbOy9"
      },
      "execution_count": null,
      "outputs": []
    },
    {
      "cell_type": "code",
      "source": [
        "df1.columns"
      ],
      "metadata": {
        "id": "qf_cQ8TgbOvu"
      },
      "execution_count": null,
      "outputs": []
    },
    {
      "cell_type": "code",
      "source": [
        "df1.duplicated().sum()"
      ],
      "metadata": {
        "id": "_33cEUC9bOsD"
      },
      "execution_count": null,
      "outputs": []
    },
    {
      "cell_type": "code",
      "source": [
        "d1f=df1.dropna(subset=['Precipitation(in)'])"
      ],
      "metadata": {
        "id": "gHo1Q2UfbOib"
      },
      "execution_count": null,
      "outputs": []
    },
    {
      "cell_type": "code",
      "source": [
        "df1=df1.dropna(subset=['Temperature(F)','Wind_Chill(F)','Humidity(%)','Pressure(in)','Visibility(mi)','Wind_Direction', 'Wind_Speed(mph)', 'Weather_Condition'])"
      ],
      "metadata": {
        "id": "CQ1NpHpIbOW2"
      },
      "execution_count": null,
      "outputs": []
    },
    {
      "cell_type": "code",
      "source": [
        "df1.shape"
      ],
      "metadata": {
        "id": "tcObi2TAbuP_"
      },
      "execution_count": null,
      "outputs": []
    },
    {
      "cell_type": "code",
      "source": [
        "df1.isna().sum()/len(df1)*100"
      ],
      "metadata": {
        "id": "oqTeRdmNbuMh"
      },
      "execution_count": null,
      "outputs": []
    },
    {
      "cell_type": "code",
      "source": [
        "df1=df1.dropna(subset=['City','Sunrise_Sunset', 'Civil_Twilight', 'Nautical_Twilight', 'Astronomical_Twilight'])"
      ],
      "metadata": {
        "id": "Ro_MOUWkbuJ5"
      },
      "execution_count": null,
      "outputs": []
    },
    {
      "cell_type": "code",
      "source": [
        "df1.isna().sum()/len(df1)*100"
      ],
      "metadata": {
        "id": "JB8LddMhbuGr"
      },
      "execution_count": null,
      "outputs": []
    },
    {
      "cell_type": "code",
      "source": [
        "df1['Weather_Condition'].value_counts()"
      ],
      "metadata": {
        "id": "62Ifa8KYcGs7"
      },
      "execution_count": null,
      "outputs": []
    },
    {
      "cell_type": "code",
      "source": [
        "df1.Side.unique()"
      ],
      "metadata": {
        "id": "EWiB7nr2cGpm"
      },
      "execution_count": null,
      "outputs": []
    },
    {
      "cell_type": "code",
      "source": [
        "df_cat=df1.select_dtypes('object')\n",
        "df_num=df1.select_dtypes(np.number)\n",
        "df_cat=df_cat.drop('ID',axis=1)"
      ],
      "metadata": {
        "id": "TT1Rq8XocGnd"
      },
      "execution_count": null,
      "outputs": []
    },
    {
      "cell_type": "code",
      "source": [
        "df_cat=df1.select_dtypes('object')\n",
        "col_name=[]\n",
        "length=[]\n",
        "\n",
        "for i in df_cat.columns:\n",
        "    col_name.append(i)\n",
        "    length.append(len(df_cat[i].unique()))\n",
        "df_2=pd.DataFrame(zip(col_name,length),columns=['feature','count_of_unique_values'])\n",
        "df_2"
      ],
      "metadata": {
        "id": "-pCa4WLOcGke"
      },
      "execution_count": null,
      "outputs": []
    },
    {
      "cell_type": "code",
      "source": [
        "df1.drop(['Description','Zipcode','Weather_Timestamp'],axis=1,inplace=True)"
      ],
      "metadata": {
        "id": "OtahUxoRcGhi"
      },
      "execution_count": null,
      "outputs": []
    },
    {
      "cell_type": "code",
      "source": [
        "del df1['Airport_Code']"
      ],
      "metadata": {
        "id": "_bktRwbCcGej"
      },
      "execution_count": null,
      "outputs": []
    },
    {
      "cell_type": "code",
      "source": [
        "df_num.columns"
      ],
      "metadata": {
        "id": "7qGmJW6RcGbe"
      },
      "execution_count": null,
      "outputs": []
    },
    {
      "cell_type": "code",
      "source": [
        "len(df_num.columns)"
      ],
      "metadata": {
        "id": "Yb7FZwZPbuDR"
      },
      "execution_count": null,
      "outputs": []
    },
    {
      "cell_type": "code",
      "source": [
        "df_cat.columns"
      ],
      "metadata": {
        "id": "aCxawPZxbt-T"
      },
      "execution_count": null,
      "outputs": []
    },
    {
      "cell_type": "code",
      "source": [
        "len(df['City'].unique())"
      ],
      "metadata": {
        "id": "6lgMNVt2bt1a"
      },
      "execution_count": null,
      "outputs": []
    },
    {
      "cell_type": "code",
      "source": [
        "df_num=df1.select_dtypes(np.number)\n",
        "col_name=[]\n",
        "length=[]\n",
        "\n",
        "for i in df_num.columns:\n",
        "    col_name.append(i)\n",
        "    length.append(len(df_num[i].unique()))\n",
        "df_2=pd.DataFrame(zip(col_name,length),columns=['feature','count_of_unique_values'])\n",
        "df_2"
      ],
      "metadata": {
        "id": "KAOTuE8gcx0i"
      },
      "execution_count": null,
      "outputs": []
    },
    {
      "cell_type": "code",
      "source": [
        "plt.figure(figsize=(15 ,9))\n",
        "sns.heatmap(df_num.corr() , annot=True)"
      ],
      "metadata": {
        "id": "WOMFLLv3cxxK"
      },
      "execution_count": null,
      "outputs": []
    },
    {
      "cell_type": "code",
      "source": [
        "cities = df1['City'].unique()\n",
        "len(cities)"
      ],
      "metadata": {
        "id": "P8U8gmb0cxur"
      },
      "execution_count": null,
      "outputs": []
    },
    {
      "cell_type": "code",
      "source": [
        "accidents_by_cities = df1['City'].value_counts()\n",
        "accidents_by_cities"
      ],
      "metadata": {
        "id": "Rlf1EOnvcxse"
      },
      "execution_count": null,
      "outputs": []
    },
    {
      "cell_type": "code",
      "source": [
        "accidents_by_cities[:10]"
      ],
      "metadata": {
        "id": "IMtpmffVcxp3"
      },
      "execution_count": null,
      "outputs": []
    },
    {
      "cell_type": "code",
      "source": [
        "fig, ax = plt.subplots(figsize=(8,5))\n",
        "accidents_by_cities[:10].plot(kind='bar')\n",
        "ax.set(title = 'Top 10 cities By Number of Accidents',\n",
        "       xlabel = 'Cities',\n",
        "       ylabel = 'Accidents Count')\n",
        "plt.show()"
      ],
      "metadata": {
        "id": "2ePIVSh7cxnn"
      },
      "execution_count": null,
      "outputs": []
    },
    {
      "cell_type": "code",
      "source": [
        "accidents_severity = df1.groupby('Severity').count()['ID']\n",
        "accidents_severity"
      ],
      "metadata": {
        "id": "TNxPXZDHcxkq"
      },
      "execution_count": null,
      "outputs": []
    },
    {
      "cell_type": "code",
      "source": [
        "fig, ax = plt.subplots(figsize=(8, 6), subplot_kw=dict(aspect=\"equal\"))\n",
        "label = [1,2,3,4]\n",
        "plt.pie(accidents_severity, labels=label,\n",
        "        autopct='%1.1f%%', pctdistance=0.85)\n",
        "circle = plt.Circle( (0,0), 0.5, color='white')\n",
        "p=plt.gcf()\n",
        "p.gca().add_artist(circle)\n",
        "ax.set_title(\"Accident by Severity\",fontdict={'fontsize': 16})\n",
        "plt.tight_layout()\n",
        "plt.show()"
      ],
      "metadata": {
        "id": "s_qvsQCHcxiG"
      },
      "execution_count": null,
      "outputs": []
    },
    {
      "cell_type": "code",
      "source": [
        "df1['Start_Time'].dtypes"
      ],
      "metadata": {
        "id": "7xEiZLMQcxfa"
      },
      "execution_count": null,
      "outputs": []
    },
    {
      "cell_type": "code",
      "source": [
        "df1['End_Time'].dtypes"
      ],
      "metadata": {
        "id": "r9wE4-b7cxcp"
      },
      "execution_count": null,
      "outputs": []
    },
    {
      "cell_type": "code",
      "source": [
        "df1 = df1.astype({'Start_Time': 'datetime64[ns]', 'End_Time': 'datetime64[ns]'})\n",
        "df1['Start_Time'].dtypes"
      ],
      "metadata": {
        "id": "Amx8ECjhcxZj"
      },
      "execution_count": null,
      "outputs": []
    },
    {
      "cell_type": "code",
      "source": [
        "df1['Start_Time'][2408]"
      ],
      "metadata": {
        "id": "hrk5oTIFcxWs"
      },
      "execution_count": null,
      "outputs": []
    },
    {
      "cell_type": "code",
      "source": [
        "df1['End_Time'][2408]"
      ],
      "metadata": {
        "id": "C2_SqEKPcxT4"
      },
      "execution_count": null,
      "outputs": []
    },
    {
      "cell_type": "code",
      "source": [
        "df1['start_date'] = [d.date() for d in df1['Start_Time']]\n",
        "df1['start_time'] = [d.time() for d in df1['Start_Time']]"
      ],
      "metadata": {
        "id": "GHGh6kwxcxQ8"
      },
      "execution_count": null,
      "outputs": []
    },
    {
      "cell_type": "code",
      "source": [
        "df1['end_date'] = [d.date() for d in df1['End_Time']]\n",
        "df1['end_time'] = [d.time() for d in df1['End_Time']]"
      ],
      "metadata": {
        "id": "Dih574nocxN2"
      },
      "execution_count": null,
      "outputs": []
    },
    {
      "cell_type": "code",
      "source": [
        "df1['end_time']"
      ],
      "metadata": {
        "id": "LtDpsBWwcxLB"
      },
      "execution_count": null,
      "outputs": []
    },
    {
      "cell_type": "code",
      "source": [
        "fig, ax = plt.subplots(figsize=(8,5))\n",
        "sns.histplot(df1['Start_Time'].dt.hour, bins = 24)\n",
        "\n",
        "plt.xlabel(\"Start Time\")\n",
        "plt.ylabel(\"Number of Occurence\")\n",
        "plt.title('Accidents Count By Time of Day')\n",
        "\n",
        "plt.show()"
      ],
      "metadata": {
        "id": "u4MZREP3cxIA"
      },
      "execution_count": null,
      "outputs": []
    },
    {
      "cell_type": "code",
      "source": [
        "fig, ax = plt.subplots(figsize=(8,5))\n",
        "sns.histplot(df1['Start_Time'].dt.hour, bins = 24)\n",
        "\n",
        "plt.xlabel(\"End_Time\")\n",
        "plt.ylabel(\"Number of Occurence\")\n",
        "plt.title('Accidents Count By Time of Day')\n",
        "\n",
        "plt.show()"
      ],
      "metadata": {
        "id": "6qNE4nW_cxE5"
      },
      "execution_count": null,
      "outputs": []
    },
    {
      "cell_type": "code",
      "source": [
        "del df1['Start_Time']\n",
        "del df1['End_Time']"
      ],
      "metadata": {
        "id": "f0IL6wjid194"
      },
      "execution_count": null,
      "outputs": []
    },
    {
      "cell_type": "code",
      "source": [
        "%matplotlib inline\n",
        "import os"
      ],
      "metadata": {
        "id": "1-hHefYjd12f"
      },
      "execution_count": null,
      "outputs": []
    },
    {
      "cell_type": "code",
      "source": [
        "fig, ax = plt.subplots(figsize=(8,5))\n",
        "weather_conditions.sort_values(ascending=False)[:20].plot(kind='bar')\n",
        "ax.set(title = 'Weather Conditions at Time of Accident Occurence',\n",
        "       xlabel = 'Weather',\n",
        "       ylabel = 'Accidents Count')\n",
        "plt.show()"
      ],
      "metadata": {
        "id": "0tjmRBEfd1uA"
      },
      "execution_count": null,
      "outputs": []
    },
    {
      "cell_type": "code",
      "source": [
        "df.shape"
      ],
      "metadata": {
        "id": "WnMwJpdeeC6i"
      },
      "execution_count": null,
      "outputs": []
    },
    {
      "cell_type": "code",
      "source": [
        "df_num.shape"
      ],
      "metadata": {
        "id": "OAKbN66heC3J"
      },
      "execution_count": null,
      "outputs": []
    },
    {
      "cell_type": "code",
      "source": [
        "df1.groupby('Severity').count()['IDD']"
      ],
      "metadata": {
        "id": "xDi8YsSweC0o"
      },
      "execution_count": null,
      "outputs": []
    },
    {
      "cell_type": "code",
      "source": [
        "df_num.plot(kind='scatter', y='Start_Lat', x='Severity')"
      ],
      "metadata": {
        "id": "3B552riveCxT"
      },
      "execution_count": null,
      "outputs": []
    },
    {
      "cell_type": "code",
      "source": [
        "sns.jointplot(x=df_num.Start_Lat.values , y=df_num.Start_Lng.values,height=10)\n",
        "plt.ylabel('Start lattitude', fontsize=12)\n",
        "plt.xlabel('Start lattitude', fontsize=12)\n",
        "plt.show()"
      ],
      "metadata": {
        "id": "AroT0_2neVow"
      },
      "execution_count": null,
      "outputs": []
    },
    {
      "cell_type": "code",
      "source": [
        "sns.jointplot(x=df_num.End_Lat.values , y=df_num.End_Lng.values,height=10)\n",
        "plt.ylabel('end lattitude', fontsize=12)\n",
        "plt.xlabel('end longitude', fontsize=12)\n",
        "plt.show()"
      ],
      "metadata": {
        "id": "M3Lig0BseViL"
      },
      "execution_count": null,
      "outputs": []
    }
  ]
}